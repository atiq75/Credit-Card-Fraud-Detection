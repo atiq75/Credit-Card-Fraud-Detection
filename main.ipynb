{
 "cells": [
  {
   "cell_type": "code",
   "execution_count": 1,
   "id": "b2871786",
   "metadata": {
    "_cell_guid": "b1076dfc-b9ad-4769-8c92-a6c4dae69d19",
    "_uuid": "8f2839f25d086af736a60e9eeb907d3b93b6e0e5",
    "execution": {
     "iopub.execute_input": "2023-10-29T23:41:29.200330Z",
     "iopub.status.busy": "2023-10-29T23:41:29.199831Z",
     "iopub.status.idle": "2023-10-29T23:41:32.045760Z",
     "shell.execute_reply": "2023-10-29T23:41:32.044055Z"
    },
    "papermill": {
     "duration": 2.856429,
     "end_time": "2023-10-29T23:41:32.047452",
     "exception": false,
     "start_time": "2023-10-29T23:41:29.191023",
     "status": "completed"
    },
    "tags": []
   },
   "outputs": [
    {
     "name": "stdout",
     "output_type": "stream",
     "text": [
      "/kaggle/input/creditcardfraud/creditcard.csv\n"
     ]
    }
   ],
   "source": [
    "import numpy as np\n",
    "import pandas as pd \n",
    "\n",
    "import matplotlib\n",
    "import matplotlib.pyplot as plt\n",
    "import seaborn as sns\n",
    "import plotly.graph_objs as go\n",
    "import plotly.figure_factory as ff\n",
    "from plotly import tools\n",
    "from plotly.offline import init_notebook_mode, iplot\n",
    "from sklearn.preprocessing import StandardScaler\n",
    "from sklearn.metrics import confusion_matrix\n",
    "from sklearn.model_selection import train_test_split, cross_val_score\n",
    "\n",
    "\n",
    "\n",
    "import os\n",
    "for dirname, _, filenames in os.walk('/kaggle/input'):\n",
    "    for filename in filenames:\n",
    "        print(os.path.join(dirname, filename))\n"
   ]
  },
  {
   "cell_type": "markdown",
   "id": "4427192a",
   "metadata": {
    "papermill": {
     "duration": 0.007094,
     "end_time": "2023-10-29T23:41:32.062359",
     "exception": false,
     "start_time": "2023-10-29T23:41:32.055265",
     "status": "completed"
    },
    "tags": []
   },
   "source": [
    "# Introduction"
   ]
  },
  {
   "cell_type": "markdown",
   "id": "a34a5fa1",
   "metadata": {
    "papermill": {
     "duration": 0.007025,
     "end_time": "2023-10-29T23:41:32.076574",
     "exception": false,
     "start_time": "2023-10-29T23:41:32.069549",
     "status": "completed"
    },
    "tags": []
   },
   "source": [
    "This notebook is an exploratory data analysis (EDA) and prediction model for credit card fraud detection. The dataset contains credit card transactions made by European cardholders in September 2013, with a total of 284,807 transactions over a two-day period.\n",
    "\n",
    "The primary focus of this notebook is to analyze the data, understand its characteristics, and build predictive models to identify fraudulent transactions. It begins with data exploration, including the examination of transaction time, transaction amount, and their distributions.\n",
    "\n",
    "The notebook provides model evaluations, such as accuracy scores and confusion matrices, for different classifiers, including RandomForest, KNeighbors, AdaBoost, and XGBoost, alongside the Isolation Forest model. The results of the models are compared to identify the best-performing model for this particular dataset.\n",
    "\n",
    "In summary, this notebook combines data exploration and predictive modeling to address the important problem of credit card fraud detection, considering the challenges posed by imbalanced datasets and the need for privacy in financial transactions."
   ]
  },
  {
   "cell_type": "markdown",
   "id": "d4d8c375",
   "metadata": {
    "papermill": {
     "duration": 0.007018,
     "end_time": "2023-10-29T23:41:32.090836",
     "exception": false,
     "start_time": "2023-10-29T23:41:32.083818",
     "status": "completed"
    },
    "tags": []
   },
   "source": [
    "# Dataset Description"
   ]
  },
  {
   "cell_type": "markdown",
   "id": "bfe67d31",
   "metadata": {
    "papermill": {
     "duration": 0.00702,
     "end_time": "2023-10-29T23:41:32.105093",
     "exception": false,
     "start_time": "2023-10-29T23:41:32.098073",
     "status": "completed"
    },
    "tags": []
   },
   "source": [
    "The datasets contains transactions made by credit cards in September 2013 by european cardholders. This dataset present transactions that occurred in two days, where we have 492 frauds out of 284,807 transactions. The dataset is **highly unbalanced**, the positive class (frauds) account for **0.172% of all transactions**.\n",
    "\n",
    "* It contains only numerical input variables which are the result of a **PCA transformation**. Unfortunately, due to confidentiality issues, we cannot provide the original features and more background information about the data. Features **V1, V2, ... V28 are the principal components obtained with PCA**, the only features which have not been transformed with PCA are 'Time' and 'Amount'. \n",
    "* Feature **'Time'** contains the seconds elapsed between each transaction and the first transaction in the dataset. \n",
    "* The feature **'Amount'** is the transaction Amount, this feature can be used for example-dependant cost-senstive learning. \n",
    "* Feature **'Class'** is the response variable and it takes value 1 in case of fraud and 0 otherwise."
   ]
  },
  {
   "cell_type": "markdown",
   "id": "2fc506f6",
   "metadata": {
    "papermill": {
     "duration": 0.007175,
     "end_time": "2023-10-29T23:41:32.119426",
     "exception": false,
     "start_time": "2023-10-29T23:41:32.112251",
     "status": "completed"
    },
    "tags": []
   },
   "source": [
    "# Read the Data"
   ]
  },
  {
   "cell_type": "code",
   "execution_count": 2,
   "id": "9fbdd1b1",
   "metadata": {
    "execution": {
     "iopub.execute_input": "2023-10-29T23:41:32.135115Z",
     "iopub.status.busy": "2023-10-29T23:41:32.134703Z",
     "iopub.status.idle": "2023-10-29T23:41:34.699244Z",
     "shell.execute_reply": "2023-10-29T23:41:34.698432Z"
    },
    "papermill": {
     "duration": 2.574312,
     "end_time": "2023-10-29T23:41:34.700885",
     "exception": false,
     "start_time": "2023-10-29T23:41:32.126573",
     "status": "completed"
    },
    "tags": []
   },
   "outputs": [
    {
     "data": {
      "text/html": [
       "<div>\n",
       "<style scoped>\n",
       "    .dataframe tbody tr th:only-of-type {\n",
       "        vertical-align: middle;\n",
       "    }\n",
       "\n",
       "    .dataframe tbody tr th {\n",
       "        vertical-align: top;\n",
       "    }\n",
       "\n",
       "    .dataframe thead th {\n",
       "        text-align: right;\n",
       "    }\n",
       "</style>\n",
       "<table border=\"1\" class=\"dataframe\">\n",
       "  <thead>\n",
       "    <tr style=\"text-align: right;\">\n",
       "      <th></th>\n",
       "      <th>Time</th>\n",
       "      <th>V1</th>\n",
       "      <th>V2</th>\n",
       "      <th>V3</th>\n",
       "      <th>V4</th>\n",
       "      <th>V5</th>\n",
       "      <th>V6</th>\n",
       "      <th>V7</th>\n",
       "      <th>V8</th>\n",
       "      <th>V9</th>\n",
       "      <th>...</th>\n",
       "      <th>V21</th>\n",
       "      <th>V22</th>\n",
       "      <th>V23</th>\n",
       "      <th>V24</th>\n",
       "      <th>V25</th>\n",
       "      <th>V26</th>\n",
       "      <th>V27</th>\n",
       "      <th>V28</th>\n",
       "      <th>Amount</th>\n",
       "      <th>Class</th>\n",
       "    </tr>\n",
       "  </thead>\n",
       "  <tbody>\n",
       "    <tr>\n",
       "      <th>0</th>\n",
       "      <td>0.0</td>\n",
       "      <td>-1.359807</td>\n",
       "      <td>-0.072781</td>\n",
       "      <td>2.536347</td>\n",
       "      <td>1.378155</td>\n",
       "      <td>-0.338321</td>\n",
       "      <td>0.462388</td>\n",
       "      <td>0.239599</td>\n",
       "      <td>0.098698</td>\n",
       "      <td>0.363787</td>\n",
       "      <td>...</td>\n",
       "      <td>-0.018307</td>\n",
       "      <td>0.277838</td>\n",
       "      <td>-0.110474</td>\n",
       "      <td>0.066928</td>\n",
       "      <td>0.128539</td>\n",
       "      <td>-0.189115</td>\n",
       "      <td>0.133558</td>\n",
       "      <td>-0.021053</td>\n",
       "      <td>149.62</td>\n",
       "      <td>0</td>\n",
       "    </tr>\n",
       "    <tr>\n",
       "      <th>1</th>\n",
       "      <td>0.0</td>\n",
       "      <td>1.191857</td>\n",
       "      <td>0.266151</td>\n",
       "      <td>0.166480</td>\n",
       "      <td>0.448154</td>\n",
       "      <td>0.060018</td>\n",
       "      <td>-0.082361</td>\n",
       "      <td>-0.078803</td>\n",
       "      <td>0.085102</td>\n",
       "      <td>-0.255425</td>\n",
       "      <td>...</td>\n",
       "      <td>-0.225775</td>\n",
       "      <td>-0.638672</td>\n",
       "      <td>0.101288</td>\n",
       "      <td>-0.339846</td>\n",
       "      <td>0.167170</td>\n",
       "      <td>0.125895</td>\n",
       "      <td>-0.008983</td>\n",
       "      <td>0.014724</td>\n",
       "      <td>2.69</td>\n",
       "      <td>0</td>\n",
       "    </tr>\n",
       "    <tr>\n",
       "      <th>2</th>\n",
       "      <td>1.0</td>\n",
       "      <td>-1.358354</td>\n",
       "      <td>-1.340163</td>\n",
       "      <td>1.773209</td>\n",
       "      <td>0.379780</td>\n",
       "      <td>-0.503198</td>\n",
       "      <td>1.800499</td>\n",
       "      <td>0.791461</td>\n",
       "      <td>0.247676</td>\n",
       "      <td>-1.514654</td>\n",
       "      <td>...</td>\n",
       "      <td>0.247998</td>\n",
       "      <td>0.771679</td>\n",
       "      <td>0.909412</td>\n",
       "      <td>-0.689281</td>\n",
       "      <td>-0.327642</td>\n",
       "      <td>-0.139097</td>\n",
       "      <td>-0.055353</td>\n",
       "      <td>-0.059752</td>\n",
       "      <td>378.66</td>\n",
       "      <td>0</td>\n",
       "    </tr>\n",
       "    <tr>\n",
       "      <th>3</th>\n",
       "      <td>1.0</td>\n",
       "      <td>-0.966272</td>\n",
       "      <td>-0.185226</td>\n",
       "      <td>1.792993</td>\n",
       "      <td>-0.863291</td>\n",
       "      <td>-0.010309</td>\n",
       "      <td>1.247203</td>\n",
       "      <td>0.237609</td>\n",
       "      <td>0.377436</td>\n",
       "      <td>-1.387024</td>\n",
       "      <td>...</td>\n",
       "      <td>-0.108300</td>\n",
       "      <td>0.005274</td>\n",
       "      <td>-0.190321</td>\n",
       "      <td>-1.175575</td>\n",
       "      <td>0.647376</td>\n",
       "      <td>-0.221929</td>\n",
       "      <td>0.062723</td>\n",
       "      <td>0.061458</td>\n",
       "      <td>123.50</td>\n",
       "      <td>0</td>\n",
       "    </tr>\n",
       "    <tr>\n",
       "      <th>4</th>\n",
       "      <td>2.0</td>\n",
       "      <td>-1.158233</td>\n",
       "      <td>0.877737</td>\n",
       "      <td>1.548718</td>\n",
       "      <td>0.403034</td>\n",
       "      <td>-0.407193</td>\n",
       "      <td>0.095921</td>\n",
       "      <td>0.592941</td>\n",
       "      <td>-0.270533</td>\n",
       "      <td>0.817739</td>\n",
       "      <td>...</td>\n",
       "      <td>-0.009431</td>\n",
       "      <td>0.798278</td>\n",
       "      <td>-0.137458</td>\n",
       "      <td>0.141267</td>\n",
       "      <td>-0.206010</td>\n",
       "      <td>0.502292</td>\n",
       "      <td>0.219422</td>\n",
       "      <td>0.215153</td>\n",
       "      <td>69.99</td>\n",
       "      <td>0</td>\n",
       "    </tr>\n",
       "  </tbody>\n",
       "</table>\n",
       "<p>5 rows × 31 columns</p>\n",
       "</div>"
      ],
      "text/plain": [
       "   Time        V1        V2        V3        V4        V5        V6        V7  \\\n",
       "0   0.0 -1.359807 -0.072781  2.536347  1.378155 -0.338321  0.462388  0.239599   \n",
       "1   0.0  1.191857  0.266151  0.166480  0.448154  0.060018 -0.082361 -0.078803   \n",
       "2   1.0 -1.358354 -1.340163  1.773209  0.379780 -0.503198  1.800499  0.791461   \n",
       "3   1.0 -0.966272 -0.185226  1.792993 -0.863291 -0.010309  1.247203  0.237609   \n",
       "4   2.0 -1.158233  0.877737  1.548718  0.403034 -0.407193  0.095921  0.592941   \n",
       "\n",
       "         V8        V9  ...       V21       V22       V23       V24       V25  \\\n",
       "0  0.098698  0.363787  ... -0.018307  0.277838 -0.110474  0.066928  0.128539   \n",
       "1  0.085102 -0.255425  ... -0.225775 -0.638672  0.101288 -0.339846  0.167170   \n",
       "2  0.247676 -1.514654  ...  0.247998  0.771679  0.909412 -0.689281 -0.327642   \n",
       "3  0.377436 -1.387024  ... -0.108300  0.005274 -0.190321 -1.175575  0.647376   \n",
       "4 -0.270533  0.817739  ... -0.009431  0.798278 -0.137458  0.141267 -0.206010   \n",
       "\n",
       "        V26       V27       V28  Amount  Class  \n",
       "0 -0.189115  0.133558 -0.021053  149.62      0  \n",
       "1  0.125895 -0.008983  0.014724    2.69      0  \n",
       "2 -0.139097 -0.055353 -0.059752  378.66      0  \n",
       "3 -0.221929  0.062723  0.061458  123.50      0  \n",
       "4  0.502292  0.219422  0.215153   69.99      0  \n",
       "\n",
       "[5 rows x 31 columns]"
      ]
     },
     "execution_count": 2,
     "metadata": {},
     "output_type": "execute_result"
    }
   ],
   "source": [
    "df = pd.read_csv(\"/kaggle/input/creditcardfraud/creditcard.csv\")\n",
    "df.head()"
   ]
  },
  {
   "cell_type": "markdown",
   "id": "aafe7e4c",
   "metadata": {
    "papermill": {
     "duration": 0.00742,
     "end_time": "2023-10-29T23:41:34.716014",
     "exception": false,
     "start_time": "2023-10-29T23:41:34.708594",
     "status": "completed"
    },
    "tags": []
   },
   "source": [
    "# Explore Data"
   ]
  },
  {
   "cell_type": "code",
   "execution_count": 3,
   "id": "671e90b4",
   "metadata": {
    "execution": {
     "iopub.execute_input": "2023-10-29T23:41:34.732214Z",
     "iopub.status.busy": "2023-10-29T23:41:34.731589Z",
     "iopub.status.idle": "2023-10-29T23:41:34.736697Z",
     "shell.execute_reply": "2023-10-29T23:41:34.735945Z"
    },
    "papermill": {
     "duration": 0.014884,
     "end_time": "2023-10-29T23:41:34.738311",
     "exception": false,
     "start_time": "2023-10-29T23:41:34.723427",
     "status": "completed"
    },
    "tags": []
   },
   "outputs": [
    {
     "data": {
      "text/plain": [
       "(284807, 31)"
      ]
     },
     "execution_count": 3,
     "metadata": {},
     "output_type": "execute_result"
    }
   ],
   "source": [
    "df.shape"
   ]
  },
  {
   "cell_type": "code",
   "execution_count": 4,
   "id": "a606bacc",
   "metadata": {
    "execution": {
     "iopub.execute_input": "2023-10-29T23:41:34.755198Z",
     "iopub.status.busy": "2023-10-29T23:41:34.754062Z",
     "iopub.status.idle": "2023-10-29T23:41:34.791108Z",
     "shell.execute_reply": "2023-10-29T23:41:34.790166Z"
    },
    "papermill": {
     "duration": 0.047157,
     "end_time": "2023-10-29T23:41:34.793007",
     "exception": false,
     "start_time": "2023-10-29T23:41:34.745850",
     "status": "completed"
    },
    "tags": []
   },
   "outputs": [
    {
     "data": {
      "text/html": [
       "<div>\n",
       "<style scoped>\n",
       "    .dataframe tbody tr th:only-of-type {\n",
       "        vertical-align: middle;\n",
       "    }\n",
       "\n",
       "    .dataframe tbody tr th {\n",
       "        vertical-align: top;\n",
       "    }\n",
       "\n",
       "    .dataframe thead th {\n",
       "        text-align: right;\n",
       "    }\n",
       "</style>\n",
       "<table border=\"1\" class=\"dataframe\">\n",
       "  <thead>\n",
       "    <tr style=\"text-align: right;\">\n",
       "      <th></th>\n",
       "      <th>Time</th>\n",
       "      <th>Amount</th>\n",
       "      <th>Class</th>\n",
       "    </tr>\n",
       "  </thead>\n",
       "  <tbody>\n",
       "    <tr>\n",
       "      <th>count</th>\n",
       "      <td>284807.000000</td>\n",
       "      <td>284807.000000</td>\n",
       "      <td>284807.000000</td>\n",
       "    </tr>\n",
       "    <tr>\n",
       "      <th>mean</th>\n",
       "      <td>94813.859575</td>\n",
       "      <td>88.349619</td>\n",
       "      <td>0.001727</td>\n",
       "    </tr>\n",
       "    <tr>\n",
       "      <th>std</th>\n",
       "      <td>47488.145955</td>\n",
       "      <td>250.120109</td>\n",
       "      <td>0.041527</td>\n",
       "    </tr>\n",
       "    <tr>\n",
       "      <th>min</th>\n",
       "      <td>0.000000</td>\n",
       "      <td>0.000000</td>\n",
       "      <td>0.000000</td>\n",
       "    </tr>\n",
       "    <tr>\n",
       "      <th>25%</th>\n",
       "      <td>54201.500000</td>\n",
       "      <td>5.600000</td>\n",
       "      <td>0.000000</td>\n",
       "    </tr>\n",
       "    <tr>\n",
       "      <th>50%</th>\n",
       "      <td>84692.000000</td>\n",
       "      <td>22.000000</td>\n",
       "      <td>0.000000</td>\n",
       "    </tr>\n",
       "    <tr>\n",
       "      <th>75%</th>\n",
       "      <td>139320.500000</td>\n",
       "      <td>77.165000</td>\n",
       "      <td>0.000000</td>\n",
       "    </tr>\n",
       "    <tr>\n",
       "      <th>max</th>\n",
       "      <td>172792.000000</td>\n",
       "      <td>25691.160000</td>\n",
       "      <td>1.000000</td>\n",
       "    </tr>\n",
       "  </tbody>\n",
       "</table>\n",
       "</div>"
      ],
      "text/plain": [
       "                Time         Amount          Class\n",
       "count  284807.000000  284807.000000  284807.000000\n",
       "mean    94813.859575      88.349619       0.001727\n",
       "std     47488.145955     250.120109       0.041527\n",
       "min         0.000000       0.000000       0.000000\n",
       "25%     54201.500000       5.600000       0.000000\n",
       "50%     84692.000000      22.000000       0.000000\n",
       "75%    139320.500000      77.165000       0.000000\n",
       "max    172792.000000   25691.160000       1.000000"
      ]
     },
     "execution_count": 4,
     "metadata": {},
     "output_type": "execute_result"
    }
   ],
   "source": [
    "df[[\"Time\", \"Amount\", \"Class\"]].describe()"
   ]
  },
  {
   "cell_type": "code",
   "execution_count": 5,
   "id": "a443e013",
   "metadata": {
    "execution": {
     "iopub.execute_input": "2023-10-29T23:41:34.809797Z",
     "iopub.status.busy": "2023-10-29T23:41:34.809550Z",
     "iopub.status.idle": "2023-10-29T23:41:34.833341Z",
     "shell.execute_reply": "2023-10-29T23:41:34.832198Z"
    },
    "papermill": {
     "duration": 0.033993,
     "end_time": "2023-10-29T23:41:34.835085",
     "exception": false,
     "start_time": "2023-10-29T23:41:34.801092",
     "status": "completed"
    },
    "tags": []
   },
   "outputs": [
    {
     "name": "stdout",
     "output_type": "stream",
     "text": [
      "<class 'pandas.core.frame.DataFrame'>\n",
      "RangeIndex: 284807 entries, 0 to 284806\n",
      "Data columns (total 31 columns):\n",
      " #   Column  Non-Null Count   Dtype  \n",
      "---  ------  --------------   -----  \n",
      " 0   Time    284807 non-null  float64\n",
      " 1   V1      284807 non-null  float64\n",
      " 2   V2      284807 non-null  float64\n",
      " 3   V3      284807 non-null  float64\n",
      " 4   V4      284807 non-null  float64\n",
      " 5   V5      284807 non-null  float64\n",
      " 6   V6      284807 non-null  float64\n",
      " 7   V7      284807 non-null  float64\n",
      " 8   V8      284807 non-null  float64\n",
      " 9   V9      284807 non-null  float64\n",
      " 10  V10     284807 non-null  float64\n",
      " 11  V11     284807 non-null  float64\n",
      " 12  V12     284807 non-null  float64\n",
      " 13  V13     284807 non-null  float64\n",
      " 14  V14     284807 non-null  float64\n",
      " 15  V15     284807 non-null  float64\n",
      " 16  V16     284807 non-null  float64\n",
      " 17  V17     284807 non-null  float64\n",
      " 18  V18     284807 non-null  float64\n",
      " 19  V19     284807 non-null  float64\n",
      " 20  V20     284807 non-null  float64\n",
      " 21  V21     284807 non-null  float64\n",
      " 22  V22     284807 non-null  float64\n",
      " 23  V23     284807 non-null  float64\n",
      " 24  V24     284807 non-null  float64\n",
      " 25  V25     284807 non-null  float64\n",
      " 26  V26     284807 non-null  float64\n",
      " 27  V27     284807 non-null  float64\n",
      " 28  V28     284807 non-null  float64\n",
      " 29  Amount  284807 non-null  float64\n",
      " 30  Class   284807 non-null  int64  \n",
      "dtypes: float64(30), int64(1)\n",
      "memory usage: 67.4 MB\n"
     ]
    }
   ],
   "source": [
    "df.info()"
   ]
  },
  {
   "cell_type": "code",
   "execution_count": 6,
   "id": "e3c4cce2",
   "metadata": {
    "execution": {
     "iopub.execute_input": "2023-10-29T23:41:34.852163Z",
     "iopub.status.busy": "2023-10-29T23:41:34.851899Z",
     "iopub.status.idle": "2023-10-29T23:41:34.864036Z",
     "shell.execute_reply": "2023-10-29T23:41:34.863317Z"
    },
    "papermill": {
     "duration": 0.022353,
     "end_time": "2023-10-29T23:41:34.865546",
     "exception": false,
     "start_time": "2023-10-29T23:41:34.843193",
     "status": "completed"
    },
    "tags": []
   },
   "outputs": [
    {
     "data": {
      "text/plain": [
       "Time      0\n",
       "V1        0\n",
       "V2        0\n",
       "V3        0\n",
       "V4        0\n",
       "V5        0\n",
       "V6        0\n",
       "V7        0\n",
       "V8        0\n",
       "V9        0\n",
       "V10       0\n",
       "V11       0\n",
       "V12       0\n",
       "V13       0\n",
       "V14       0\n",
       "V15       0\n",
       "V16       0\n",
       "V17       0\n",
       "V18       0\n",
       "V19       0\n",
       "V20       0\n",
       "V21       0\n",
       "V22       0\n",
       "V23       0\n",
       "V24       0\n",
       "V25       0\n",
       "V26       0\n",
       "V27       0\n",
       "V28       0\n",
       "Amount    0\n",
       "Class     0\n",
       "dtype: int64"
      ]
     },
     "execution_count": 6,
     "metadata": {},
     "output_type": "execute_result"
    }
   ],
   "source": [
    "df.isnull().sum()"
   ]
  },
  {
   "cell_type": "code",
   "execution_count": 7,
   "id": "d9c6d48f",
   "metadata": {
    "execution": {
     "iopub.execute_input": "2023-10-29T23:41:34.883224Z",
     "iopub.status.busy": "2023-10-29T23:41:34.882995Z",
     "iopub.status.idle": "2023-10-29T23:41:34.910110Z",
     "shell.execute_reply": "2023-10-29T23:41:34.909539Z"
    },
    "papermill": {
     "duration": 0.037746,
     "end_time": "2023-10-29T23:41:34.911556",
     "exception": false,
     "start_time": "2023-10-29T23:41:34.873810",
     "status": "completed"
    },
    "tags": []
   },
   "outputs": [
    {
     "data": {
      "text/plain": [
       "Class\n",
       "0    284315\n",
       "1       492\n",
       "Name: count, dtype: int64"
      ]
     },
     "execution_count": 7,
     "metadata": {},
     "output_type": "execute_result"
    }
   ],
   "source": [
    "fraud = df[df[\"Class\"] == 1]\n",
    "not_fraud = df[df[\"Class\"] == 0]\n",
    "df['Class'].value_counts()"
   ]
  },
  {
   "cell_type": "code",
   "execution_count": 8,
   "id": "e78142ec",
   "metadata": {
    "execution": {
     "iopub.execute_input": "2023-10-29T23:41:34.929189Z",
     "iopub.status.busy": "2023-10-29T23:41:34.928809Z",
     "iopub.status.idle": "2023-10-29T23:41:34.932489Z",
     "shell.execute_reply": "2023-10-29T23:41:34.931703Z"
    },
    "papermill": {
     "duration": 0.014116,
     "end_time": "2023-10-29T23:41:34.934064",
     "exception": false,
     "start_time": "2023-10-29T23:41:34.919948",
     "status": "completed"
    },
    "tags": []
   },
   "outputs": [
    {
     "name": "stdout",
     "output_type": "stream",
     "text": [
      "(492, 31)\n",
      "(284315, 31)\n"
     ]
    }
   ],
   "source": [
    "print(fraud.shape)\n",
    "print(not_fraud.shape)"
   ]
  },
  {
   "cell_type": "code",
   "execution_count": 9,
   "id": "af7d5b62",
   "metadata": {
    "execution": {
     "iopub.execute_input": "2023-10-29T23:41:34.951229Z",
     "iopub.status.busy": "2023-10-29T23:41:34.950796Z",
     "iopub.status.idle": "2023-10-29T23:41:34.957749Z",
     "shell.execute_reply": "2023-10-29T23:41:34.957233Z"
    },
    "papermill": {
     "duration": 0.017081,
     "end_time": "2023-10-29T23:41:34.959143",
     "exception": false,
     "start_time": "2023-10-29T23:41:34.942062",
     "status": "completed"
    },
    "tags": []
   },
   "outputs": [
    {
     "data": {
      "text/plain": [
       "count     492.000000\n",
       "mean      122.211321\n",
       "std       256.683288\n",
       "min         0.000000\n",
       "25%         1.000000\n",
       "50%         9.250000\n",
       "75%       105.890000\n",
       "max      2125.870000\n",
       "Name: Amount, dtype: float64"
      ]
     },
     "execution_count": 9,
     "metadata": {},
     "output_type": "execute_result"
    }
   ],
   "source": [
    "fraud.Amount.describe()"
   ]
  },
  {
   "cell_type": "code",
   "execution_count": 10,
   "id": "7197be6f",
   "metadata": {
    "execution": {
     "iopub.execute_input": "2023-10-29T23:41:34.976675Z",
     "iopub.status.busy": "2023-10-29T23:41:34.975998Z",
     "iopub.status.idle": "2023-10-29T23:41:34.990847Z",
     "shell.execute_reply": "2023-10-29T23:41:34.990264Z"
    },
    "papermill": {
     "duration": 0.025152,
     "end_time": "2023-10-29T23:41:34.992370",
     "exception": false,
     "start_time": "2023-10-29T23:41:34.967218",
     "status": "completed"
    },
    "tags": []
   },
   "outputs": [
    {
     "data": {
      "text/plain": [
       "count    284315.000000\n",
       "mean         88.291022\n",
       "std         250.105092\n",
       "min           0.000000\n",
       "25%           5.650000\n",
       "50%          22.000000\n",
       "75%          77.050000\n",
       "max       25691.160000\n",
       "Name: Amount, dtype: float64"
      ]
     },
     "execution_count": 10,
     "metadata": {},
     "output_type": "execute_result"
    }
   ],
   "source": [
    "not_fraud.Amount.describe()"
   ]
  },
  {
   "cell_type": "markdown",
   "id": "17f9660e",
   "metadata": {
    "papermill": {
     "duration": 0.008091,
     "end_time": "2023-10-29T23:41:35.008768",
     "exception": false,
     "start_time": "2023-10-29T23:41:35.000677",
     "status": "completed"
    },
    "tags": []
   },
   "source": [
    "Let's examine the distributions of the time of transactions and the transaction amounts to gain insights into the skewness of these features. For privacy considerations, we don't have access to the names of the remaining features."
   ]
  },
  {
   "cell_type": "code",
   "execution_count": 11,
   "id": "576b56be",
   "metadata": {
    "execution": {
     "iopub.execute_input": "2023-10-29T23:41:35.026347Z",
     "iopub.status.busy": "2023-10-29T23:41:35.025963Z",
     "iopub.status.idle": "2023-10-29T23:41:50.772011Z",
     "shell.execute_reply": "2023-10-29T23:41:50.771197Z"
    },
    "papermill": {
     "duration": 15.756956,
     "end_time": "2023-10-29T23:41:50.773925",
     "exception": false,
     "start_time": "2023-10-29T23:41:35.016969",
     "status": "completed"
    },
    "tags": []
   },
   "outputs": [
    {
     "data": {
      "image/png": "[encoded data removed]",
      "text/plain": [
       "<Figure size 1500x600 with 2 Axes>"
      ]
     },
     "metadata": {},
     "output_type": "display_data"
    }
   ],
   "source": [
    "# Create subplots\n",
    "f, (ax1, ax2) = plt.subplots(1, 2, figsize=(15, 6))\n",
    "\n",
    "# Use histplot for distribution plots\n",
    "sns.histplot(df['Time'], ax = ax1, color='b', kde = True)\n",
    "sns.histplot(df['Amount'], ax = ax2, color='r', kde = True)\n",
    "\n",
    "# Set titles for the subplots\n",
    "ax1.set_title('Distribution of Time', fontsize = 13)\n",
    "ax2.set_title('Distribution of Amount', fontsize = 13)\n",
    "\n",
    "# Show the plots\n",
    "plt.show()"
   ]
  },
  {
   "cell_type": "markdown",
   "id": "4f65e262",
   "metadata": {
    "papermill": {
     "duration": 0.008497,
     "end_time": "2023-10-29T23:41:50.791868",
     "exception": false,
     "start_time": "2023-10-29T23:41:50.783371",
     "status": "completed"
    },
    "tags": []
   },
   "source": [
    "**Features Correlations**\n",
    "\n",
    "There is no notable correlation between features V1-V28."
   ]
  },
  {
   "cell_type": "code",
   "execution_count": 12,
   "id": "e8c0235f",
   "metadata": {
    "execution": {
     "iopub.execute_input": "2023-10-29T23:41:50.843869Z",
     "iopub.status.busy": "2023-10-29T23:41:50.843029Z",
     "iopub.status.idle": "2023-10-29T23:41:51.933087Z",
     "shell.execute_reply": "2023-10-29T23:41:51.932480Z"
    },
    "papermill": {
     "duration": 1.101745,
     "end_time": "2023-10-29T23:41:51.934781",
     "exception": false,
     "start_time": "2023-10-29T23:41:50.833036",
     "status": "completed"
    },
    "tags": []
   },
   "outputs": [
    {
     "data": {
      "image/png": "[encoded data removed]",
      "text/plain": [
       "<Figure size 1400x1400 with 2 Axes>"
      ]
     },
     "metadata": {},
     "output_type": "display_data"
    }
   ],
   "source": [
    "plt.figure(figsize = (14,14))\n",
    "plt.title('Credit Card Transactions features correlation plot (Pearson)')\n",
    "corr = df.corr()\n",
    "sns.heatmap(corr, xticklabels=corr.columns, yticklabels=corr.columns, linewidths=.1)\n",
    "plt.show()"
   ]
  },
  {
   "cell_type": "markdown",
   "id": "28b347a1",
   "metadata": {
    "papermill": {
     "duration": 0.009268,
     "end_time": "2023-10-29T23:41:51.953978",
     "exception": false,
     "start_time": "2023-10-29T23:41:51.944710",
     "status": "completed"
    },
    "tags": []
   },
   "source": [
    "Now lets create a plot that displays the relationship between the amount of fraudulent transactions and the corresponding time in seconds from the beginning of the time period."
   ]
  },
  {
   "cell_type": "code",
   "execution_count": 13,
   "id": "09e27435",
   "metadata": {
    "execution": {
     "iopub.execute_input": "2023-10-29T23:41:51.974156Z",
     "iopub.status.busy": "2023-10-29T23:41:51.973904Z",
     "iopub.status.idle": "2023-10-29T23:41:52.870109Z",
     "shell.execute_reply": "2023-10-29T23:41:52.869491Z"
    },
    "papermill": {
     "duration": 0.908143,
     "end_time": "2023-10-29T23:41:52.871621",
     "exception": false,
     "start_time": "2023-10-29T23:41:51.963478",
     "status": "completed"
    },
    "tags": []
   },
   "outputs": [
    {
     "data": {
      "text/html": [
       "        <script type=\"text/javascript\">\n",
       "        window.PlotlyConfig = {MathJaxConfig: 'local'};\n",
       "        if (window.MathJax && window.MathJax.Hub && window.MathJax.Hub.Config) {window.MathJax.Hub.Config({SVG: {font: \"STIX-Web\"}});}\n",
       "        if (typeof require !== 'undefined') {\n",
       "        require.undef(\"plotly\");\n",
       "        requirejs.config({\n",
       "            paths: {\n",
       "                'plotly': ['https://cdn.plot.ly/plotly-2.24.1.min']\n",
       "            }\n",
       "        });\n",
       "        require(['plotly'], function(Plotly) {\n",
       "            window._Plotly = Plotly;\n",
       "        });\n",
       "        }\n",
       "        </script>\n",
       "        "
      ]
     },
     "metadata": {},
     "output_type": "display_data"
    },
    {
     "data": {
      "text/html": [
       "<div>                            <div id=\"0fdf734e-8e50-468c-bd2c-d85879c12925\" class=\"plotly-graph-div\" style=\"height:525px; width:100%;\"></div>            <script type=\"text/javascript\">                require([\"plotly\"], function(Plotly) {                    window.PLOTLYENV=window.PLOTLYENV || {};                                    if (document.getElementById(\"0fdf734e-8e50-468c-bd2c-d85879c12925\")) {                    Plotly.newPlot(                        \"0fdf734e-8e50-468c-bd2c-d85879c12925\",                        [{\"marker\":{\"color\":\"purple\",\"opacity\":0.7,\"size\":6},\"mode\":\"markers\",\"name\":\"Amount\",\"text\":[0.0,529.0,239.93,59.0,1.0,1.0,1.0,1.0,1.0,1.0,1.0,1.0,1.0,1.0,1.0,1.0,1.0,1.0,1.0,1.0,1.0,1.1,1.0,1.0,1809.68,1.0,1.0,1.0,1.0,1.0,0.0,30.39,179.66,1.0,1.0,1.0,1.0,1.0,11.39,3.79,3.79,3.93,1.0,766.36,1218.89,1.0,188.78,1.0,1.0,1.0,1.0,1.0,1.0,1.0,1.0,1.0,3.12,99.99,99.99,99.99,3.76,99.99,99.99,99.99,99.99,99.99,99.99,99.99,99.99,99.99,99.99,99.99,99.99,23.36,99.99,730.86,99.99,99.99,99.99,99.99,99.99,0.68,0.68,0.68,30.3,104.81,0.0,717.15,19.02,1.52,18.96,125.3,19.02,0.76,60.6,7.61,1.0,9.13,4.56,14.46,111.7,111.7,12.31,776.83,1.0,1.0,1.0,1.0,0.76,0.76,112.33,3.79,340.11,88.23,5.3,83.38,11.38,1.52,88.23,30.26,459.07,0.0,118.3,45.49,173.07,37.32,59.68,0.76,9.99,34.12,273.01,106.55,364.19,39.45,53.95,172.32,802.52,99.99,139.9,1.0,1.0,1.0,1.0,1.0,648.0,204.27,88.0,24.9,1.0,1.0,1.0,105.99,1.0,1.0,1.0,1.0,0.76,7.58,0.76,0.76,208.58,1.0,19.73,360.0,99.99,99.99,99.99,99.99,99.99,519.9,0.76,0.76,1.18,8.0,0.0,112.45,261.87,1.79,1.0,0.83,0.83,130.44,311.91,170.92,153.46,7.52,1.0,5.0,0.01,444.17,1.0,1.0,1.0,1.75,5.09,270.0,113.92,45.64,1389.56,18.98,6.27,319.2,5.91,454.82,101.5,19.04,6.62,180.0,1.0,1.1,1402.16,290.18,294.9,1.0,0.0,0.0,720.38,31.91,1354.25,98.01,101.5,7.53,489.71,549.06,320.0,1.0,1.0,1.0,1.0,1.0,1.0,19.59,1.0,227.3,3.79,318.11,824.83,0.76,426.4,238.9,45.03,16.48,76.94,311.28,30.14,29.95,124.53,99.85,99.9,219.8,254.76,1.0,1.0,1.0,1.0,129.0,1.0,1.0,1.0,106.9,60.0,0.2,7.57,1.0,1.0,0.0,0.0,512.25,512.25,12.31,354.33,2.0,0.0,0.0,252.92,252.92,1.0,240.77,1.0,310.42,323.77,451.27,829.41,1.18,9.21,6.99,38.76,52.69,1.0,1.0,261.22,18.0,600.73,1.0,75.86,8.54,0.01,44.9,44.9,316.06,316.06,209.65,78.0,78.0,188.52,188.52,30.31,30.31,104.03,104.03,1.0,1.0,37.93,97.0,11.4,45.48,1.0,1.0,1.0,1.0,1.0,33.76,571.48,1.63,1.63,18.96,33.59,1.0,8.64,9.82,2.28,1.0,0.76,1.0,0.92,2.28,147.87,0.0,22.04,0.0,104.0,2.28,0.01,1.0,346.94,7.59,0.0,0.0,119.74,2.27,0.0,186.13,1.0,0.76,80.22,635.1,17.06,65.0,105.89,105.89,144.62,2125.87,11.0,45.51,40.0,3.22,0.0,25.0,67.9,93.35,1.0,175.9,720.8,7.18,4.87,80.9,0.0,2.0,1.0,362.55,276.17,723.21,480.72,1.0,1335.0,0.0,130.21,1.0,925.31,0.0,345.0,108.51,84.28,39.45,0.01,727.91,22.47,8.3,120.54,0.69,723.21,0.77,592.9,195.66,4.49,0.76,324.59,320.01,2.0,144.8,0.0,1.0,1.0,8.9,1.0,667.55,0.0,1.18,2.22,0.77,94.82,8.0,996.27,0.0,1.59,1.59,0.0,0.76,0.76,122.68,0.0,1.0,1.1,2.0,17.39,50.0,237.26,1.0,9.29,10.7,0.01,57.73,1.0,1.0,1.0,1.0,1.0,2.47,357.95,247.86,51.37,0.0,0.76,1504.93,1096.99,35.0,6.74,0.77,0.77,0.77,3.9,3.14,7.06,94.82,0.77,0.77,187.11,7.59,4.97,0.77,296.0,45.51,4.9,156.0,4.69,0.77,1.0,0.77,127.14,0.38,39.98,12.31,0.0,39.9,634.3,19.95,349.08,390.0,0.76,77.89,245.0,42.53],\"x\":[406.0,472.0,4462.0,6986.0,7519.0,7526.0,7535.0,7543.0,7551.0,7610.0,7672.0,7740.0,7891.0,8090.0,8169.0,8408.0,8415.0,8451.0,8528.0,8614.0,8757.0,8808.0,8878.0,8886.0,9064.0,11080.0,11092.0,11131.0,11629.0,11635.0,12093.0,12095.0,12393.0,12597.0,13126.0,13323.0,14073.0,14152.0,15817.0,17187.0,17220.0,17230.0,17520.0,17838.0,18088.0,18399.0,18675.0,18690.0,19762.0,20011.0,20332.0,20451.0,20931.0,21046.0,21419.0,21662.0,25095.0,25198.0,25231.0,25254.0,25426.0,26523.0,26556.0,26585.0,26833.0,26863.0,26899.0,26931.0,26961.0,27163.0,27187.0,27219.0,27252.0,27784.0,28143.0,28242.0,28625.0,28658.0,28692.0,28726.0,28755.0,29526.0,29531.0,29753.0,29785.0,30852.0,32686.0,32745.0,34256.0,34521.0,34634.0,34684.0,34687.0,35585.0,35771.0,35866.0,35899.0,35906.0,35926.0,35942.0,35953.0,36170.0,37167.0,39729.0,40086.0,40276.0,40662.0,40742.0,40892.0,40918.0,40919.0,41116.0,41138.0,41147.0,41164.0,41170.0,41181.0,41194.0,41203.0,41204.0,41227.0,41233.0,41237.0,41243.0,41273.0,41285.0,41305.0,41308.0,41313.0,41353.0,41397.0,41413.0,41505.0,41582.0,41607.0,41646.0,41743.0,41791.0,41851.0,41870.0,41991.0,42247.0,42474.0,42985.0,42988.0,43028.0,43369.0,43494.0,44393.0,44532.0,45463.0,45501.0,45541.0,46057.0,46149.0,46925.0,47545.0,47826.0,47923.0,47982.0,48380.0,48533.0,48884.0,49985.0,50706.0,50808.0,51112.0,51135.0,51155.0,52814.0,52934.0,53031.0,53076.0,53451.0,53658.0,53727.0,53937.0,54846.0,55279.0,55311.0,55614.0,55618.0,55760.0,56098.0,56624.0,56650.0,56806.0,56887.0,57007.0,57027.0,57163.0,58060.0,58067.0,58199.0,58217.0,58222.0,58642.0,58822.0,59011.0,59385.0,59669.0,59777.0,59840.0,60353.0,61108.0,61646.0,62059.0,62080.0,62330.0,62341.0,62467.0,63578.0,64093.0,64412.0,64443.0,64585.0,64785.0,65358.0,65385.0,65728.0,65936.0,66037.0,67150.0,67571.0,67857.0,68207.0,68207.0,68207.0,68207.0,68207.0,68207.0,68357.0,69394.0,70071.0,70229.0,70270.0,70536.0,70828.0,71033.0,72327.0,72824.0,73408.0,74159.0,74262.0,75033.0,75556.0,75581.0,75851.0,75978.0,76575.0,76826.0,76845.0,76857.0,76867.0,76876.0,77154.0,77171.0,77182.0,77202.0,77627.0,78725.0,79540.0,81372.0,82289.0,83934.0,84204.0,84204.0,84204.0,84204.0,84694.0,84789.0,85181.0,85285.0,85285.0,85285.0,85285.0,85573.0,85576.0,85864.0,85867.0,86376.0,87202.0,87883.0,88672.0,88737.0,90676.0,91075.0,91407.0,91502.0,91524.0,91554.0,92092.0,92102.0,93742.0,93823.0,93824.0,93834.0,93853.0,93853.0,93853.0,93853.0,93856.0,93860.0,93860.0,93860.0,93860.0,93879.0,93879.0,93879.0,93879.0,93888.0,93897.0,93904.0,93920.0,93965.0,94141.0,94362.0,94362.0,94362.0,94362.0,94364.0,94625.0,94952.0,95559.0,95628.0,96135.0,96291.0,96717.0,97121.0,97235.0,100223.0,100298.0,100501.0,100924.0,101051.0,101313.0,101597.0,102114.0,102318.0,102480.0,102489.0,102542.0,102572.0,102619.0,102622.0,102625.0,102669.0,102671.0,102676.0,103808.0,109297.0,109298.0,110087.0,110547.0,110552.0,110617.0,115691.0,116067.0,118532.0,118603.0,121238.0,122608.0,123078.0,123525.0,125200.0,125612.0,125658.0,126219.0,128471.0,128519.0,128595.0,128803.0,129095.0,129186.0,129222.0,129308.0,129371.0,129668.0,129741.0,129764.0,129808.0,131024.0,132086.0,132688.0,133184.0,133731.0,133958.0,134766.0,134769.0,134928.0,135095.0,135102.0,135314.0,137211.0,138894.0,138942.0,139107.0,139117.0,139767.0,139816.0,139951.0,140293.0,140308.0,141320.0,141565.0,141925.0,142280.0,142394.0,142409.0,142840.0,142961.0,143354.0,143434.0,143438.0,143456.0,144808.0,144839.0,146022.0,146026.0,146179.0,146344.0,146998.0,147501.0,148028.0,148053.0,148053.0,148074.0,148468.0,148476.0,148479.0,149096.0,149236.0,149582.0,149640.0,149676.0,150138.0,150139.0,150494.0,150949.0,151029.0,151916.0,151972.0,152036.0,152058.0,152098.0,152165.0,152307.0,152710.0,152802.0,153653.0,153761.0,153875.0,154181.0,154278.0,154309.0,154493.0,154599.0,154657.0,155054.0,155359.0,155535.0,155542.0,155548.0,155554.0,155662.0,155965.0,156685.0,156710.0,157207.0,157284.0,158638.0,159844.0,160034.0,160243.0,160537.0,160665.0,160791.0,160870.0,160895.0,161154.0,163181.0,165132.0,165981.0,166028.0,166831.0,166883.0,167338.0,169142.0,169347.0,169351.0,169966.0,170348.0],\"y\":[0.0,529.0,239.93,59.0,1.0,1.0,1.0,1.0,1.0,1.0,1.0,1.0,1.0,1.0,1.0,1.0,1.0,1.0,1.0,1.0,1.0,1.1,1.0,1.0,1809.68,1.0,1.0,1.0,1.0,1.0,0.0,30.39,179.66,1.0,1.0,1.0,1.0,1.0,11.39,3.79,3.79,3.93,1.0,766.36,1218.89,1.0,188.78,1.0,1.0,1.0,1.0,1.0,1.0,1.0,1.0,1.0,3.12,99.99,99.99,99.99,3.76,99.99,99.99,99.99,99.99,99.99,99.99,99.99,99.99,99.99,99.99,99.99,99.99,23.36,99.99,730.86,99.99,99.99,99.99,99.99,99.99,0.68,0.68,0.68,30.3,104.81,0.0,717.15,19.02,1.52,18.96,125.3,19.02,0.76,60.6,7.61,1.0,9.13,4.56,14.46,111.7,111.7,12.31,776.83,1.0,1.0,1.0,1.0,0.76,0.76,112.33,3.79,340.11,88.23,5.3,83.38,11.38,1.52,88.23,30.26,459.07,0.0,118.3,45.49,173.07,37.32,59.68,0.76,9.99,34.12,273.01,106.55,364.19,39.45,53.95,172.32,802.52,99.99,139.9,1.0,1.0,1.0,1.0,1.0,648.0,204.27,88.0,24.9,1.0,1.0,1.0,105.99,1.0,1.0,1.0,1.0,0.76,7.58,0.76,0.76,208.58,1.0,19.73,360.0,99.99,99.99,99.99,99.99,99.99,519.9,0.76,0.76,1.18,8.0,0.0,112.45,261.87,1.79,1.0,0.83,0.83,130.44,311.91,170.92,153.46,7.52,1.0,5.0,0.01,444.17,1.0,1.0,1.0,1.75,5.09,270.0,113.92,45.64,1389.56,18.98,6.27,319.2,5.91,454.82,101.5,19.04,6.62,180.0,1.0,1.1,1402.16,290.18,294.9,1.0,0.0,0.0,720.38,31.91,1354.25,98.01,101.5,7.53,489.71,549.06,320.0,1.0,1.0,1.0,1.0,1.0,1.0,19.59,1.0,227.3,3.79,318.11,824.83,0.76,426.4,238.9,45.03,16.48,76.94,311.28,30.14,29.95,124.53,99.85,99.9,219.8,254.76,1.0,1.0,1.0,1.0,129.0,1.0,1.0,1.0,106.9,60.0,0.2,7.57,1.0,1.0,0.0,0.0,512.25,512.25,12.31,354.33,2.0,0.0,0.0,252.92,252.92,1.0,240.77,1.0,310.42,323.77,451.27,829.41,1.18,9.21,6.99,38.76,52.69,1.0,1.0,261.22,18.0,600.73,1.0,75.86,8.54,0.01,44.9,44.9,316.06,316.06,209.65,78.0,78.0,188.52,188.52,30.31,30.31,104.03,104.03,1.0,1.0,37.93,97.0,11.4,45.48,1.0,1.0,1.0,1.0,1.0,33.76,571.48,1.63,1.63,18.96,33.59,1.0,8.64,9.82,2.28,1.0,0.76,1.0,0.92,2.28,147.87,0.0,22.04,0.0,104.0,2.28,0.01,1.0,346.94,7.59,0.0,0.0,119.74,2.27,0.0,186.13,1.0,0.76,80.22,635.1,17.06,65.0,105.89,105.89,144.62,2125.87,11.0,45.51,40.0,3.22,0.0,25.0,67.9,93.35,1.0,175.9,720.8,7.18,4.87,80.9,0.0,2.0,1.0,362.55,276.17,723.21,480.72,1.0,1335.0,0.0,130.21,1.0,925.31,0.0,345.0,108.51,84.28,39.45,0.01,727.91,22.47,8.3,120.54,0.69,723.21,0.77,592.9,195.66,4.49,0.76,324.59,320.01,2.0,144.8,0.0,1.0,1.0,8.9,1.0,667.55,0.0,1.18,2.22,0.77,94.82,8.0,996.27,0.0,1.59,1.59,0.0,0.76,0.76,122.68,0.0,1.0,1.1,2.0,17.39,50.0,237.26,1.0,9.29,10.7,0.01,57.73,1.0,1.0,1.0,1.0,1.0,2.47,357.95,247.86,51.37,0.0,0.76,1504.93,1096.99,35.0,6.74,0.77,0.77,0.77,3.9,3.14,7.06,94.82,0.77,0.77,187.11,7.59,4.97,0.77,296.0,45.51,4.9,156.0,4.69,0.77,1.0,0.77,127.14,0.38,39.98,12.31,0.0,39.9,634.3,19.95,349.08,390.0,0.76,77.89,245.0,42.53],\"type\":\"scatter\"}],                        {\"hovermode\":\"closest\",\"template\":{\"data\":{\"barpolar\":[{\"marker\":{\"line\":{\"color\":\"#E5ECF6\",\"width\":0.5},\"pattern\":{\"fillmode\":\"overlay\",\"size\":10,\"solidity\":0.2}},\"type\":\"barpolar\"}],\"bar\":[{\"error_x\":{\"color\":\"#2a3f5f\"},\"error_y\":{\"color\":\"#2a3f5f\"},\"marker\":{\"line\":{\"color\":\"#E5ECF6\",\"width\":0.5},\"pattern\":{\"fillmode\":\"overlay\",\"size\":10,\"solidity\":0.2}},\"type\":\"bar\"}],\"carpet\":[{\"aaxis\":{\"endlinecolor\":\"#2a3f5f\",\"gridcolor\":\"white\",\"linecolor\":\"white\",\"minorgridcolor\":\"white\",\"startlinecolor\":\"#2a3f5f\"},\"baxis\":{\"endlinecolor\":\"#2a3f5f\",\"gridcolor\":\"white\",\"linecolor\":\"white\",\"minorgridcolor\":\"white\",\"startlinecolor\":\"#2a3f5f\"},\"type\":\"carpet\"}],\"choropleth\":[{\"colorbar\":{\"outlinewidth\":0,\"ticks\":\"\"},\"type\":\"choropleth\"}],\"contourcarpet\":[{\"colorbar\":{\"outlinewidth\":0,\"ticks\":\"\"},\"type\":\"contourcarpet\"}],\"contour\":[{\"colorbar\":{\"outlinewidth\":0,\"ticks\":\"\"},\"colorscale\":[[0.0,\"#0d0887\"],[0.1111111111111111,\"#46039f\"],[0.2222222222222222,\"#7201a8\"],[0.3333333333333333,\"#9c179e\"],[0.4444444444444444,\"#bd3786\"],[0.5555555555555556,\"#d8576b\"],[0.6666666666666666,\"#ed7953\"],[0.7777777777777778,\"#fb9f3a\"],[0.8888888888888888,\"#fdca26\"],[1.0,\"#f0f921\"]],\"type\":\"contour\"}],\"heatmapgl\":[{\"colorbar\":{\"outlinewidth\":0,\"ticks\":\"\"},\"colorscale\":[[0.0,\"#0d0887\"],[0.1111111111111111,\"#46039f\"],[0.2222222222222222,\"#7201a8\"],[0.3333333333333333,\"#9c179e\"],[0.4444444444444444,\"#bd3786\"],[0.5555555555555556,\"#d8576b\"],[0.6666666666666666,\"#ed7953\"],[0.7777777777777778,\"#fb9f3a\"],[0.8888888888888888,\"#fdca26\"],[1.0,\"#f0f921\"]],\"type\":\"heatmapgl\"}],\"heatmap\":[{\"colorbar\":{\"outlinewidth\":0,\"ticks\":\"\"},\"colorscale\":[[0.0,\"#0d0887\"],[0.1111111111111111,\"#46039f\"],[0.2222222222222222,\"#7201a8\"],[0.3333333333333333,\"#9c179e\"],[0.4444444444444444,\"#bd3786\"],[0.5555555555555556,\"#d8576b\"],[0.6666666666666666,\"#ed7953\"],[0.7777777777777778,\"#fb9f3a\"],[0.8888888888888888,\"#fdca26\"],[1.0,\"#f0f921\"]],\"type\":\"heatmap\"}],\"histogram2dcontour\":[{\"colorbar\":{\"outlinewidth\":0,\"ticks\":\"\"},\"colorscale\":[[0.0,\"#0d0887\"],[0.1111111111111111,\"#46039f\"],[0.2222222222222222,\"#7201a8\"],[0.3333333333333333,\"#9c179e\"],[0.4444444444444444,\"#bd3786\"],[0.5555555555555556,\"#d8576b\"],[0.6666666666666666,\"#ed7953\"],[0.7777777777777778,\"#fb9f3a\"],[0.8888888888888888,\"#fdca26\"],[1.0,\"#f0f921\"]],\"type\":\"histogram2dcontour\"}],\"histogram2d\":[{\"colorbar\":{\"outlinewidth\":0,\"ticks\":\"\"},\"colorscale\":[[0.0,\"#0d0887\"],[0.1111111111111111,\"#46039f\"],[0.2222222222222222,\"#7201a8\"],[0.3333333333333333,\"#9c179e\"],[0.4444444444444444,\"#bd3786\"],[0.5555555555555556,\"#d8576b\"],[0.6666666666666666,\"#ed7953\"],[0.7777777777777778,\"#fb9f3a\"],[0.8888888888888888,\"#fdca26\"],[1.0,\"#f0f921\"]],\"type\":\"histogram2d\"}],\"histogram\":[{\"marker\":{\"pattern\":{\"fillmode\":\"overlay\",\"size\":10,\"solidity\":0.2}},\"type\":\"histogram\"}],\"mesh3d\":[{\"colorbar\":{\"outlinewidth\":0,\"ticks\":\"\"},\"type\":\"mesh3d\"}],\"parcoords\":[{\"line\":{\"colorbar\":{\"outlinewidth\":0,\"ticks\":\"\"}},\"type\":\"parcoords\"}],\"pie\":[{\"automargin\":true,\"type\":\"pie\"}],\"scatter3d\":[{\"line\":{\"colorbar\":{\"outlinewidth\":0,\"ticks\":\"\"}},\"marker\":{\"colorbar\":{\"outlinewidth\":0,\"ticks\":\"\"}},\"type\":\"scatter3d\"}],\"scattercarpet\":[{\"marker\":{\"colorbar\":{\"outlinewidth\":0,\"ticks\":\"\"}},\"type\":\"scattercarpet\"}],\"scattergeo\":[{\"marker\":{\"colorbar\":{\"outlinewidth\":0,\"ticks\":\"\"}},\"type\":\"scattergeo\"}],\"scattergl\":[{\"marker\":{\"colorbar\":{\"outlinewidth\":0,\"ticks\":\"\"}},\"type\":\"scattergl\"}],\"scattermapbox\":[{\"marker\":{\"colorbar\":{\"outlinewidth\":0,\"ticks\":\"\"}},\"type\":\"scattermapbox\"}],\"scatterpolargl\":[{\"marker\":{\"colorbar\":{\"outlinewidth\":0,\"ticks\":\"\"}},\"type\":\"scatterpolargl\"}],\"scatterpolar\":[{\"marker\":{\"colorbar\":{\"outlinewidth\":0,\"ticks\":\"\"}},\"type\":\"scatterpolar\"}],\"scatter\":[{\"fillpattern\":{\"fillmode\":\"overlay\",\"size\":10,\"solidity\":0.2},\"type\":\"scatter\"}],\"scatterternary\":[{\"marker\":{\"colorbar\":{\"outlinewidth\":0,\"ticks\":\"\"}},\"type\":\"scatterternary\"}],\"surface\":[{\"colorbar\":{\"outlinewidth\":0,\"ticks\":\"\"},\"colorscale\":[[0.0,\"#0d0887\"],[0.1111111111111111,\"#46039f\"],[0.2222222222222222,\"#7201a8\"],[0.3333333333333333,\"#9c179e\"],[0.4444444444444444,\"#bd3786\"],[0.5555555555555556,\"#d8576b\"],[0.6666666666666666,\"#ed7953\"],[0.7777777777777778,\"#fb9f3a\"],[0.8888888888888888,\"#fdca26\"],[1.0,\"#f0f921\"]],\"type\":\"surface\"}],\"table\":[{\"cells\":{\"fill\":{\"color\":\"#EBF0F8\"},\"line\":{\"color\":\"white\"}},\"header\":{\"fill\":{\"color\":\"#C8D4E3\"},\"line\":{\"color\":\"white\"}},\"type\":\"table\"}]},\"layout\":{\"annotationdefaults\":{\"arrowcolor\":\"#2a3f5f\",\"arrowhead\":0,\"arrowwidth\":1},\"autotypenumbers\":\"strict\",\"coloraxis\":{\"colorbar\":{\"outlinewidth\":0,\"ticks\":\"\"}},\"colorscale\":{\"diverging\":[[0,\"#8e0152\"],[0.1,\"#c51b7d\"],[0.2,\"#de77ae\"],[0.3,\"#f1b6da\"],[0.4,\"#fde0ef\"],[0.5,\"#f7f7f7\"],[0.6,\"#e6f5d0\"],[0.7,\"#b8e186\"],[0.8,\"#7fbc41\"],[0.9,\"#4d9221\"],[1,\"#276419\"]],\"sequential\":[[0.0,\"#0d0887\"],[0.1111111111111111,\"#46039f\"],[0.2222222222222222,\"#7201a8\"],[0.3333333333333333,\"#9c179e\"],[0.4444444444444444,\"#bd3786\"],[0.5555555555555556,\"#d8576b\"],[0.6666666666666666,\"#ed7953\"],[0.7777777777777778,\"#fb9f3a\"],[0.8888888888888888,\"#fdca26\"],[1.0,\"#f0f921\"]],\"sequentialminus\":[[0.0,\"#0d0887\"],[0.1111111111111111,\"#46039f\"],[0.2222222222222222,\"#7201a8\"],[0.3333333333333333,\"#9c179e\"],[0.4444444444444444,\"#bd3786\"],[0.5555555555555556,\"#d8576b\"],[0.6666666666666666,\"#ed7953\"],[0.7777777777777778,\"#fb9f3a\"],[0.8888888888888888,\"#fdca26\"],[1.0,\"#f0f921\"]]},\"colorway\":[\"#636efa\",\"#EF553B\",\"#00cc96\",\"#ab63fa\",\"#FFA15A\",\"#19d3f3\",\"#FF6692\",\"#B6E880\",\"#FF97FF\",\"#FECB52\"],\"font\":{\"color\":\"#2a3f5f\"},\"geo\":{\"bgcolor\":\"white\",\"lakecolor\":\"white\",\"landcolor\":\"#E5ECF6\",\"showlakes\":true,\"showland\":true,\"subunitcolor\":\"white\"},\"hoverlabel\":{\"align\":\"left\"},\"hovermode\":\"closest\",\"mapbox\":{\"style\":\"light\"},\"paper_bgcolor\":\"white\",\"plot_bgcolor\":\"#E5ECF6\",\"polar\":{\"angularaxis\":{\"gridcolor\":\"white\",\"linecolor\":\"white\",\"ticks\":\"\"},\"bgcolor\":\"#E5ECF6\",\"radialaxis\":{\"gridcolor\":\"white\",\"linecolor\":\"white\",\"ticks\":\"\"}},\"scene\":{\"xaxis\":{\"backgroundcolor\":\"#E5ECF6\",\"gridcolor\":\"white\",\"gridwidth\":2,\"linecolor\":\"white\",\"showbackground\":true,\"ticks\":\"\",\"zerolinecolor\":\"white\"},\"yaxis\":{\"backgroundcolor\":\"#E5ECF6\",\"gridcolor\":\"white\",\"gridwidth\":2,\"linecolor\":\"white\",\"showbackground\":true,\"ticks\":\"\",\"zerolinecolor\":\"white\"},\"zaxis\":{\"backgroundcolor\":\"#E5ECF6\",\"gridcolor\":\"white\",\"gridwidth\":2,\"linecolor\":\"white\",\"showbackground\":true,\"ticks\":\"\",\"zerolinecolor\":\"white\"}},\"shapedefaults\":{\"line\":{\"color\":\"#2a3f5f\"}},\"ternary\":{\"aaxis\":{\"gridcolor\":\"white\",\"linecolor\":\"white\",\"ticks\":\"\"},\"baxis\":{\"gridcolor\":\"white\",\"linecolor\":\"white\",\"ticks\":\"\"},\"bgcolor\":\"#E5ECF6\",\"caxis\":{\"gridcolor\":\"white\",\"linecolor\":\"white\",\"ticks\":\"\"}},\"title\":{\"x\":0.05},\"xaxis\":{\"automargin\":true,\"gridcolor\":\"white\",\"linecolor\":\"white\",\"ticks\":\"\",\"title\":{\"standoff\":15},\"zerolinecolor\":\"white\",\"zerolinewidth\":2},\"yaxis\":{\"automargin\":true,\"gridcolor\":\"white\",\"linecolor\":\"white\",\"ticks\":\"\",\"title\":{\"standoff\":15},\"zerolinecolor\":\"white\",\"zerolinewidth\":2}}},\"title\":{\"text\":\"Amount of Fraudulent Transactions\"},\"xaxis\":{\"showticklabels\":true,\"title\":{\"text\":\"Time [s]\"}},\"yaxis\":{\"title\":{\"text\":\"Amount\"}}},                        {\"responsive\": true}                    ).then(function(){\n",
       "                            \n",
       "var gd = document.getElementById('0fdf734e-8e50-468c-bd2c-d85879c12925');\n",
       "var x = new MutationObserver(function (mutations, observer) {{\n",
       "        var display = window.getComputedStyle(gd).display;\n",
       "        if (!display || display === 'none') {{\n",
       "            console.log([gd, 'removed!']);\n",
       "            Plotly.purge(gd);\n",
       "            observer.disconnect();\n",
       "        }}\n",
       "}});\n",
       "\n",
       "// Listen for the removal of the full notebook cells\n",
       "var notebookContainer = gd.closest('#notebook-container');\n",
       "if (notebookContainer) {{\n",
       "    x.observe(notebookContainer, {childList: true});\n",
       "}}\n",
       "\n",
       "// Listen for the clearing of the current output cell\n",
       "var outputEl = gd.closest('.output');\n",
       "if (outputEl) {{\n",
       "    x.observe(outputEl, {childList: true});\n",
       "}}\n",
       "\n",
       "                        })                };                });            </script>        </div>"
      ]
     },
     "metadata": {},
     "output_type": "display_data"
    }
   ],
   "source": [
    "# Create a scatter plot for fraudulent transactions\n",
    "trace = go.Scatter(\n",
    "    x=fraud['Time'],\n",
    "    y=fraud['Amount'],\n",
    "    mode=\"markers\",\n",
    "    marker=dict(\n",
    "        size=6,  # Adjust the size of the markers\n",
    "        color='purple',  # Change marker color to red\n",
    "        opacity=0.7,  # Adjust marker opacity\n",
    "    ),\n",
    "    text=fraud['Amount'],\n",
    "    name=\"Amount\"\n",
    ")\n",
    "\n",
    "data = [trace]\n",
    "\n",
    "# Define the layout\n",
    "layout = go.Layout(\n",
    "    title='Amount of Fraudulent Transactions',\n",
    "    xaxis=dict(title='Time [s]', showticklabels=True),\n",
    "    yaxis=dict(title='Amount'),\n",
    "    hovermode='closest'\n",
    ")\n",
    "\n",
    "fig = go.Figure(data=data, layout=layout)\n",
    "\n",
    "# Show the plot\n",
    "iplot(fig, filename='fraud-amount')\n"
   ]
  },
  {
   "cell_type": "markdown",
   "id": "aa774aaf",
   "metadata": {
    "papermill": {
     "duration": 0.009569,
     "end_time": "2023-10-29T23:41:52.891466",
     "exception": false,
     "start_time": "2023-10-29T23:41:52.881897",
     "status": "completed"
    },
    "tags": []
   },
   "source": [
    "# Data Imbalance"
   ]
  },
  {
   "cell_type": "markdown",
   "id": "d13a5b3e",
   "metadata": {
    "papermill": {
     "duration": 0.009639,
     "end_time": "2023-10-29T23:41:52.910847",
     "exception": false,
     "start_time": "2023-10-29T23:41:52.901208",
     "status": "completed"
    },
    "tags": []
   },
   "source": [
    "This dataset is severely imbalanced since only 0.172% of all transactions are frauds. In order to reduce bias we need to balance the data."
   ]
  },
  {
   "cell_type": "code",
   "execution_count": 14,
   "id": "992a1504",
   "metadata": {
    "execution": {
     "iopub.execute_input": "2023-10-29T23:41:52.931643Z",
     "iopub.status.busy": "2023-10-29T23:41:52.931087Z",
     "iopub.status.idle": "2023-10-29T23:41:53.081468Z",
     "shell.execute_reply": "2023-10-29T23:41:53.080776Z"
    },
    "papermill": {
     "duration": 0.162272,
     "end_time": "2023-10-29T23:41:53.082917",
     "exception": false,
     "start_time": "2023-10-29T23:41:52.920645",
     "status": "completed"
    },
    "tags": []
   },
   "outputs": [
    {
     "name": "stdout",
     "output_type": "stream",
     "text": [
      "Non-fraud transactions: 99.83%\n",
      "Fraud transactions: 0.17%\n"
     ]
    },
    {
     "data": {
      "image/png": "[encoded data removed]",
      "text/plain": [
       "<Figure size 640x480 with 1 Axes>"
      ]
     },
     "metadata": {},
     "output_type": "display_data"
    }
   ],
   "source": [
    "sns.countplot(x='Class', data=df)\n",
    "print('Non-fraud transactions: {}%'.format(round(df.Class.value_counts()[0]/len(df)*100.0,2)))\n",
    "print('Fraud transactions: {}%'.format(round(df.Class.value_counts()[1]/len(df)*100.0,2)))"
   ]
  },
  {
   "cell_type": "code",
   "execution_count": 15,
   "id": "dad711a5",
   "metadata": {
    "execution": {
     "iopub.execute_input": "2023-10-29T23:41:53.104408Z",
     "iopub.status.busy": "2023-10-29T23:41:53.104134Z",
     "iopub.status.idle": "2023-10-29T23:41:53.119765Z",
     "shell.execute_reply": "2023-10-29T23:41:53.118783Z"
    },
    "papermill": {
     "duration": 0.028247,
     "end_time": "2023-10-29T23:41:53.121514",
     "exception": false,
     "start_time": "2023-10-29T23:41:53.093267",
     "status": "completed"
    },
    "tags": []
   },
   "outputs": [],
   "source": [
    "x = df.drop([\"Class\"], axis = 1)\n",
    "y = df[\"Class\"]"
   ]
  },
  {
   "cell_type": "code",
   "execution_count": 16,
   "id": "2abac191",
   "metadata": {
    "execution": {
     "iopub.execute_input": "2023-10-29T23:41:53.143601Z",
     "iopub.status.busy": "2023-10-29T23:41:53.142948Z",
     "iopub.status.idle": "2023-10-29T23:41:54.226984Z",
     "shell.execute_reply": "2023-10-29T23:41:54.226181Z"
    },
    "papermill": {
     "duration": 1.096933,
     "end_time": "2023-10-29T23:41:54.228975",
     "exception": false,
     "start_time": "2023-10-29T23:41:53.132042",
     "status": "completed"
    },
    "tags": []
   },
   "outputs": [],
   "source": [
    "from imblearn.under_sampling import NearMiss\n",
    "nm = NearMiss()\n",
    "x_nm, y_nm = nm.fit_resample(x, y)"
   ]
  },
  {
   "cell_type": "code",
   "execution_count": 17,
   "id": "beefe6b0",
   "metadata": {
    "execution": {
     "iopub.execute_input": "2023-10-29T23:41:54.250696Z",
     "iopub.status.busy": "2023-10-29T23:41:54.250355Z",
     "iopub.status.idle": "2023-10-29T23:41:54.254641Z",
     "shell.execute_reply": "2023-10-29T23:41:54.253723Z"
    },
    "papermill": {
     "duration": 0.016926,
     "end_time": "2023-10-29T23:41:54.256390",
     "exception": false,
     "start_time": "2023-10-29T23:41:54.239464",
     "status": "completed"
    },
    "tags": []
   },
   "outputs": [
    {
     "name": "stdout",
     "output_type": "stream",
     "text": [
      "(984, 30) (984,)\n"
     ]
    }
   ],
   "source": [
    "print(x_nm.shape, y_nm.shape)"
   ]
  },
  {
   "cell_type": "markdown",
   "id": "c54f8060",
   "metadata": {
    "papermill": {
     "duration": 0.010019,
     "end_time": "2023-10-29T23:41:54.276477",
     "exception": false,
     "start_time": "2023-10-29T23:41:54.266458",
     "status": "completed"
    },
    "tags": []
   },
   "source": [
    "## Standarization"
   ]
  },
  {
   "cell_type": "code",
   "execution_count": 18,
   "id": "71a0f15d",
   "metadata": {
    "execution": {
     "iopub.execute_input": "2023-10-29T23:41:54.298554Z",
     "iopub.status.busy": "2023-10-29T23:41:54.298131Z",
     "iopub.status.idle": "2023-10-29T23:41:54.305305Z",
     "shell.execute_reply": "2023-10-29T23:41:54.304759Z"
    },
    "papermill": {
     "duration": 0.020138,
     "end_time": "2023-10-29T23:41:54.306832",
     "exception": false,
     "start_time": "2023-10-29T23:41:54.286694",
     "status": "completed"
    },
    "tags": []
   },
   "outputs": [],
   "source": [
    "scalar = StandardScaler()\n",
    "x_scaled = scalar.fit_transform(x_nm)"
   ]
  },
  {
   "cell_type": "markdown",
   "id": "a5094fde",
   "metadata": {
    "papermill": {
     "duration": 0.010056,
     "end_time": "2023-10-29T23:41:54.326998",
     "exception": false,
     "start_time": "2023-10-29T23:41:54.316942",
     "status": "completed"
    },
    "tags": []
   },
   "source": [
    "# Models"
   ]
  },
  {
   "cell_type": "code",
   "execution_count": 19,
   "id": "71345843",
   "metadata": {
    "execution": {
     "iopub.execute_input": "2023-10-29T23:41:54.348115Z",
     "iopub.status.busy": "2023-10-29T23:41:54.347888Z",
     "iopub.status.idle": "2023-10-29T23:41:54.352396Z",
     "shell.execute_reply": "2023-10-29T23:41:54.351793Z"
    },
    "papermill": {
     "duration": 0.016769,
     "end_time": "2023-10-29T23:41:54.353910",
     "exception": false,
     "start_time": "2023-10-29T23:41:54.337141",
     "status": "completed"
    },
    "tags": []
   },
   "outputs": [],
   "source": [
    "# Splitting the dataset into train and test \n",
    "x_train,x_test,y_train,y_test = train_test_split(x_scaled,y_nm, test_size = 0.25)"
   ]
  },
  {
   "cell_type": "code",
   "execution_count": 20,
   "id": "9a96539b",
   "metadata": {
    "execution": {
     "iopub.execute_input": "2023-10-29T23:41:54.375340Z",
     "iopub.status.busy": "2023-10-29T23:41:54.374788Z",
     "iopub.status.idle": "2023-10-29T23:41:54.380814Z",
     "shell.execute_reply": "2023-10-29T23:41:54.380230Z"
    },
    "papermill": {
     "duration": 0.018364,
     "end_time": "2023-10-29T23:41:54.382312",
     "exception": false,
     "start_time": "2023-10-29T23:41:54.363948",
     "status": "completed"
    },
    "tags": []
   },
   "outputs": [],
   "source": [
    "acc = []\n",
    "# Define a function to evaluate a model\n",
    "def evaluate_model(model, x_train, y_train, x_test, y_test):\n",
    "    model.fit(x_train, y_train)\n",
    "    \n",
    "    accuracy = model.score(x_test, y_test)\n",
    "    print(\"Accuracy: {}\".format(accuracy))\n",
    "    \n",
    "    cv_scores = cross_val_score(model, x_train, y_train, cv=5)\n",
    "    mean_cv_score = np.mean(cv_scores)\n",
    "    print(\"Cross Val Score: {}\".format(mean_cv_score))\n",
    "    acc.append(accuracy)\n",
    "\n",
    "# Define a function to print the confusion matrix\n",
    "def plot_confusion_matrix(model, x_test, y_test):\n",
    "    # Make predictions using the model\n",
    "    y_pred = model.predict(x_test)\n",
    "    \n",
    "    # Calculate the confusion matrix\n",
    "    cm = confusion_matrix(y_test, y_pred)\n",
    "    \n",
    "    # Create a heatmap of the confusion matrix\n",
    "    sns.heatmap(cm, annot=True, fmt=\"d\", cmap=\"Blues\")\n",
    "    plt.xlabel('Predicted')\n",
    "    plt.ylabel('Actual')\n",
    "    plt.title('Confusion Matrix')\n",
    "    plt.show()"
   ]
  },
  {
   "cell_type": "code",
   "execution_count": 21,
   "id": "9bdba79e",
   "metadata": {
    "execution": {
     "iopub.execute_input": "2023-10-29T23:41:54.403681Z",
     "iopub.status.busy": "2023-10-29T23:41:54.403329Z",
     "iopub.status.idle": "2023-10-29T23:41:55.991159Z",
     "shell.execute_reply": "2023-10-29T23:41:55.989417Z"
    },
    "papermill": {
     "duration": 1.602479,
     "end_time": "2023-10-29T23:41:55.994898",
     "exception": false,
     "start_time": "2023-10-29T23:41:54.392419",
     "status": "completed"
    },
    "tags": []
   },
   "outputs": [
    {
     "name": "stdout",
     "output_type": "stream",
     "text": [
      "Accuracy: 0.9715447154471545\n",
      "Cross Val Score: 0.9579702151130723\n"
     ]
    },
    {
     "data": {
      "image/png": "[encoded data removed]",
      "text/plain": [
       "<Figure size 640x480 with 2 Axes>"
      ]
     },
     "metadata": {},
     "output_type": "display_data"
    }
   ],
   "source": [
    "from sklearn.ensemble import RandomForestClassifier\n",
    "clf = RandomForestClassifier()\n",
    "evaluate_model(clf, x_train, y_train, x_test, y_test)\n",
    "\n",
    "plot_confusion_matrix(clf, x_test, y_test)"
   ]
  },
  {
   "cell_type": "code",
   "execution_count": 22,
   "id": "a536c389",
   "metadata": {
    "execution": {
     "iopub.execute_input": "2023-10-29T23:41:56.017116Z",
     "iopub.status.busy": "2023-10-29T23:41:56.016860Z",
     "iopub.status.idle": "2023-10-29T23:41:56.298418Z",
     "shell.execute_reply": "2023-10-29T23:41:56.297745Z"
    },
    "papermill": {
     "duration": 0.294264,
     "end_time": "2023-10-29T23:41:56.300033",
     "exception": false,
     "start_time": "2023-10-29T23:41:56.005769",
     "status": "completed"
    },
    "tags": []
   },
   "outputs": [
    {
     "name": "stdout",
     "output_type": "stream",
     "text": [
      "Accuracy: 0.9552845528455285\n",
      "Cross Val Score: 0.9227615370472513\n"
     ]
    },
    {
     "data": {
      "image/png": "[encoded data removed]",
      "text/plain": [
       "<Figure size 640x480 with 2 Axes>"
      ]
     },
     "metadata": {},
     "output_type": "display_data"
    }
   ],
   "source": [
    "from sklearn.neighbors import KNeighborsClassifier\n",
    "clf = KNeighborsClassifier()\n",
    "evaluate_model(clf, x_train, y_train, x_test, y_test)\n",
    "\n",
    "plot_confusion_matrix(clf, x_test, y_test)"
   ]
  },
  {
   "cell_type": "code",
   "execution_count": 23,
   "id": "e318e1a0",
   "metadata": {
    "execution": {
     "iopub.execute_input": "2023-10-29T23:41:56.323726Z",
     "iopub.status.busy": "2023-10-29T23:41:56.322450Z",
     "iopub.status.idle": "2023-10-29T23:41:57.579280Z",
     "shell.execute_reply": "2023-10-29T23:41:57.578533Z"
    },
    "papermill": {
     "duration": 1.269914,
     "end_time": "2023-10-29T23:41:57.580937",
     "exception": false,
     "start_time": "2023-10-29T23:41:56.311023",
     "status": "completed"
    },
    "tags": []
   },
   "outputs": [
    {
     "name": "stdout",
     "output_type": "stream",
     "text": [
      "Accuracy: 0.991869918699187\n",
      "Cross Val Score: 0.9471502114359257\n"
     ]
    },
    {
     "data": {
      "image/png": "[encoded data removed]",
      "text/plain": [
       "<Figure size 640x480 with 2 Axes>"
      ]
     },
     "metadata": {},
     "output_type": "display_data"
    }
   ],
   "source": [
    "from sklearn.ensemble import AdaBoostClassifier\n",
    "clf = AdaBoostClassifier()\n",
    "evaluate_model(clf, x_train, y_train, x_test, y_test)\n",
    "\n",
    "plot_confusion_matrix(clf, x_test, y_test)"
   ]
  },
  {
   "cell_type": "code",
   "execution_count": 24,
   "id": "fd03a461",
   "metadata": {
    "execution": {
     "iopub.execute_input": "2023-10-29T23:41:57.604685Z",
     "iopub.status.busy": "2023-10-29T23:41:57.604465Z",
     "iopub.status.idle": "2023-10-29T23:41:58.291325Z",
     "shell.execute_reply": "2023-10-29T23:41:58.290509Z"
    },
    "papermill": {
     "duration": 0.70054,
     "end_time": "2023-10-29T23:41:58.292999",
     "exception": false,
     "start_time": "2023-10-29T23:41:57.592459",
     "status": "completed"
    },
    "tags": []
   },
   "outputs": [
    {
     "name": "stdout",
     "output_type": "stream",
     "text": [
      "Accuracy: 0.9796747967479674\n",
      "Cross Val Score: 0.9566096708953852\n"
     ]
    },
    {
     "data": {
      "image/png": "[encoded data removed]",
      "text/plain": [
       "<Figure size 640x480 with 2 Axes>"
      ]
     },
     "metadata": {},
     "output_type": "display_data"
    }
   ],
   "source": [
    "from xgboost import XGBClassifier\n",
    "clf = XGBClassifier()\n",
    "evaluate_model(clf, x_train, y_train, x_test, y_test)\n",
    "\n",
    "plot_confusion_matrix(clf, x_test, y_test)"
   ]
  },
  {
   "cell_type": "markdown",
   "id": "f4988173",
   "metadata": {
    "papermill": {
     "duration": 0.011181,
     "end_time": "2023-10-29T23:41:58.315968",
     "exception": false,
     "start_time": "2023-10-29T23:41:58.304787",
     "status": "completed"
    },
    "tags": []
   },
   "source": [
    "# Anomaly Detection Model"
   ]
  },
  {
   "cell_type": "markdown",
   "id": "edffbff3",
   "metadata": {
    "papermill": {
     "duration": 0.011132,
     "end_time": "2023-10-29T23:41:58.338354",
     "exception": false,
     "start_time": "2023-10-29T23:41:58.327222",
     "status": "completed"
    },
    "tags": []
   },
   "source": [
    "Isolation Forest was chosen as the anomaly detection model for the provided dataset due to its suitability for handling credit card transaction data. Since fraudulent transactions are typically rare and exhibit distinct patterns, making Isolation Forest an effective choice for anomaly detection. It isolates anomalies with fewer splits in the data, simplifying the understanding of why specific data points are flagged as anomalies."
   ]
  },
  {
   "cell_type": "code",
   "execution_count": 25,
   "id": "ee22204e",
   "metadata": {
    "execution": {
     "iopub.execute_input": "2023-10-29T23:41:58.362394Z",
     "iopub.status.busy": "2023-10-29T23:41:58.361691Z",
     "iopub.status.idle": "2023-10-29T23:41:58.378010Z",
     "shell.execute_reply": "2023-10-29T23:41:58.377200Z"
    },
    "papermill": {
     "duration": 0.029993,
     "end_time": "2023-10-29T23:41:58.379598",
     "exception": false,
     "start_time": "2023-10-29T23:41:58.349605",
     "status": "completed"
    },
    "tags": []
   },
   "outputs": [
    {
     "name": "stdout",
     "output_type": "stream",
     "text": [
      "(284807, 30)\n",
      "(284807,)\n"
     ]
    }
   ],
   "source": [
    "#Get all the columns from the dataframe\n",
    "columns = df.columns.tolist()\n",
    "\n",
    "# Filter the columns to remove data we do not want \n",
    "columns = [c for c in columns if c not in [\"Class\"]]\n",
    "target = \"Class\"\n",
    "\n",
    "# Define a random state \n",
    "state = np.random.RandomState(45)\n",
    "X = df[columns]\n",
    "Y = df[target]\n",
    "\n",
    "# Print the shapes of X & Y\n",
    "print(X.shape)\n",
    "print(Y.shape)"
   ]
  },
  {
   "cell_type": "code",
   "execution_count": 26,
   "id": "5f05f6e7",
   "metadata": {
    "execution": {
     "iopub.execute_input": "2023-10-29T23:41:58.404705Z",
     "iopub.status.busy": "2023-10-29T23:41:58.403988Z",
     "iopub.status.idle": "2023-10-29T23:42:20.641176Z",
     "shell.execute_reply": "2023-10-29T23:42:20.640004Z"
    },
    "papermill": {
     "duration": 22.251291,
     "end_time": "2023-10-29T23:42:20.642907",
     "exception": false,
     "start_time": "2023-10-29T23:41:58.391616",
     "status": "completed"
    },
    "tags": []
   },
   "outputs": [
    {
     "name": "stderr",
     "output_type": "stream",
     "text": [
      "/opt/conda/lib/python3.10/site-packages/sklearn/base.py:439: UserWarning:\n",
      "\n",
      "X does not have valid feature names, but IsolationForest was fitted with feature names\n",
      "\n"
     ]
    },
    {
     "name": "stdout",
     "output_type": "stream",
     "text": [
      "Isolation Forest: 667\n",
      "Accuracy Score: 0.9976580631796269\n",
      "Classification Report:\n",
      "              precision    recall  f1-score   support\n",
      "\n",
      "           0       1.00      1.00      1.00    284315\n",
      "           1       0.32      0.32      0.32       492\n",
      "\n",
      "    accuracy                           1.00    284807\n",
      "   macro avg       0.66      0.66      0.66    284807\n",
      "weighted avg       1.00      1.00      1.00    284807\n",
      "\n"
     ]
    }
   ],
   "source": [
    "from sklearn.ensemble import IsolationForest\n",
    "import warnings\n",
    "warnings.filterwarnings(\"ignore\")\n",
    "\n",
    "# Create the Isolation Forest model\n",
    "clf = IsolationForest(n_estimators=100, max_samples=len(X), contamination = len(fraud)/float(len(not_fraud)), random_state=state, verbose=0)\n",
    "\n",
    "# Fit the model to the data\n",
    "clf.fit(X)\n",
    "\n",
    "# Predict anomalies\n",
    "y_pred = clf.predict(X)\n",
    "\n",
    "# Reshape the prediction values to 0 for Valid transactions, 1 for Fraud transactions\n",
    "y_pred = [1 if x == -1 else 0 for x in y_pred]\n",
    "\n",
    "# Calculate the number of errors\n",
    "n_errors = (y_pred != Y).sum()\n",
    "\n",
    "# Calculate accuracy and print classification report\n",
    "from sklearn.metrics import accuracy_score, classification_report\n",
    "\n",
    "accuracy = accuracy_score(Y, y_pred)\n",
    "acc.append(accuracy)\n",
    "report = classification_report(Y, y_pred)\n",
    "\n",
    "# Print the results\n",
    "print(f\"Isolation Forest: {n_errors}\")\n",
    "print(f\"Accuracy Score: {accuracy}\")\n",
    "print(\"Classification Report:\")\n",
    "print(report)\n"
   ]
  },
  {
   "cell_type": "code",
   "execution_count": 27,
   "id": "0584002a",
   "metadata": {
    "execution": {
     "iopub.execute_input": "2023-10-29T23:42:20.667651Z",
     "iopub.status.busy": "2023-10-29T23:42:20.667419Z",
     "iopub.status.idle": "2023-10-29T23:42:20.672440Z",
     "shell.execute_reply": "2023-10-29T23:42:20.671753Z"
    },
    "papermill": {
     "duration": 0.019004,
     "end_time": "2023-10-29T23:42:20.674057",
     "exception": false,
     "start_time": "2023-10-29T23:42:20.655053",
     "status": "completed"
    },
    "tags": []
   },
   "outputs": [
    {
     "data": {
      "text/plain": [
       "['97.15%', '95.53%', '99.19%', '97.97%', '99.77%']"
      ]
     },
     "execution_count": 27,
     "metadata": {},
     "output_type": "execute_result"
    }
   ],
   "source": [
    "models = [\"RandomForestClassifier\", \"KNeighborsClassifier\", \"AdaBoostClassifier\", \"XGBClassifier\", \"IsolationForest\"]\n",
    "acc_percentages = [f\"{score * 100:.2f}%\" for score in acc]\n",
    "acc_percentages"
   ]
  },
  {
   "cell_type": "code",
   "execution_count": 28,
   "id": "6629ed4d",
   "metadata": {
    "execution": {
     "iopub.execute_input": "2023-10-29T23:42:20.698980Z",
     "iopub.status.busy": "2023-10-29T23:42:20.698461Z",
     "iopub.status.idle": "2023-10-29T23:42:20.705728Z",
     "shell.execute_reply": "2023-10-29T23:42:20.705157Z"
    },
    "papermill": {
     "duration": 0.021207,
     "end_time": "2023-10-29T23:42:20.707157",
     "exception": false,
     "start_time": "2023-10-29T23:42:20.685950",
     "status": "completed"
    },
    "tags": []
   },
   "outputs": [
    {
     "data": {
      "text/html": [
       "<div>\n",
       "<style scoped>\n",
       "    .dataframe tbody tr th:only-of-type {\n",
       "        vertical-align: middle;\n",
       "    }\n",
       "\n",
       "    .dataframe tbody tr th {\n",
       "        vertical-align: top;\n",
       "    }\n",
       "\n",
       "    .dataframe thead th {\n",
       "        text-align: right;\n",
       "    }\n",
       "</style>\n",
       "<table border=\"1\" class=\"dataframe\">\n",
       "  <thead>\n",
       "    <tr style=\"text-align: right;\">\n",
       "      <th></th>\n",
       "      <th>Model</th>\n",
       "      <th>Accuracy Score</th>\n",
       "    </tr>\n",
       "  </thead>\n",
       "  <tbody>\n",
       "    <tr>\n",
       "      <th>0</th>\n",
       "      <td>RandomForestClassifier</td>\n",
       "      <td>97.15%</td>\n",
       "    </tr>\n",
       "    <tr>\n",
       "      <th>1</th>\n",
       "      <td>KNeighborsClassifier</td>\n",
       "      <td>95.53%</td>\n",
       "    </tr>\n",
       "    <tr>\n",
       "      <th>2</th>\n",
       "      <td>AdaBoostClassifier</td>\n",
       "      <td>99.19%</td>\n",
       "    </tr>\n",
       "    <tr>\n",
       "      <th>3</th>\n",
       "      <td>XGBClassifier</td>\n",
       "      <td>97.97%</td>\n",
       "    </tr>\n",
       "    <tr>\n",
       "      <th>4</th>\n",
       "      <td>IsolationForest</td>\n",
       "      <td>99.77%</td>\n",
       "    </tr>\n",
       "  </tbody>\n",
       "</table>\n",
       "</div>"
      ],
      "text/plain": [
       "                    Model Accuracy Score\n",
       "0  RandomForestClassifier         97.15%\n",
       "1    KNeighborsClassifier         95.53%\n",
       "2      AdaBoostClassifier         99.19%\n",
       "3           XGBClassifier         97.97%\n",
       "4         IsolationForest         99.77%"
      ]
     },
     "execution_count": 28,
     "metadata": {},
     "output_type": "execute_result"
    }
   ],
   "source": [
    "acc_scores = {\"Model\": models, \"Accuracy Score\": acc_percentages}\n",
    "score_df = pd.DataFrame(acc_scores)\n",
    "score_df"
   ]
  },
  {
   "cell_type": "markdown",
   "id": "65d58d43",
   "metadata": {
    "papermill": {
     "duration": 0.011474,
     "end_time": "2023-10-29T23:42:20.730681",
     "exception": false,
     "start_time": "2023-10-29T23:42:20.719207",
     "status": "completed"
    },
    "tags": []
   },
   "source": [
    "**Observation:**\n",
    "\n",
    "Isolation Forest has a 99% accuracy rate which is more than any other models used."
   ]
  }
 ],
 "metadata": {
  "kernelspec": {
   "display_name": "Python 3",
   "language": "python",
   "name": "python3"
  },
  "language_info": {
   "codemirror_mode": {
    "name": "ipython",
    "version": 3
   },
   "file_extension": ".py",
   "mimetype": "text/x-python",
   "name": "python",
   "nbconvert_exporter": "python",
   "pygments_lexer": "ipython3",
   "version": "3.10.12"
  },
  "papermill": {
   "default_parameters": {},
   "duration": 55.333136,
   "end_time": "2023-10-29T23:42:22.161378",
   "environment_variables": {},
   "exception": null,
   "input_path": "__notebook__.ipynb",
   "output_path": "__notebook__.ipynb",
   "parameters": {},
   "start_time": "2023-10-29T23:41:26.828242",
   "version": "2.4.0"
  }
 },
 "nbformat": 4,
 "nbformat_minor": 5
}
